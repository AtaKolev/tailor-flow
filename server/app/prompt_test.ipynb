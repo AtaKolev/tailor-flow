{
 "cells": [
  {
   "cell_type": "code",
   "execution_count": 1,
   "metadata": {},
   "outputs": [],
   "source": [
    "import prompt_zon\n",
    "import re\n",
    "import json"
   ]
  },
  {
   "cell_type": "code",
   "execution_count": 2,
   "metadata": {},
   "outputs": [
    {
     "name": "stdout",
     "output_type": "stream",
     "text": [
      "Raw response from model: Sure, based on your personality traits and current career, here's a customized step-by-step learning path to become a Data Engineer:\n",
      "\n",
      "1. **Basics of Data Engineering**\n",
      "   Since you're high in extraversion, you might enjoy engaging in interactive learning environments. Therefore, start with the Data Engineering Basics: a course that includes interactive sessions and group projects. \n",
      "   Course Link: [Data Engineering Basics](https://www.coursera.org/learn/data-engineering)\n",
      "\n",
      "2. **Introduction to Databases**\n",
      "   As you have low agreeableness, you prefer to work independently. So, an online self-paced course on databases would be perfect for you. This course will provide you with a solid foundation in databases.\n",
      "   Course Link: [Introduction to Databases](https://www.coursera.org/learn/intro-sql)\n",
      "\n",
      "3. **Python for Data Science**\n",
      "   Given your medium openness, you are open to new experiences but may not thrive in highly unstructured environments. This course will provide a structured introduction to Python, a key language for data engineering.\n",
      "   Course Link: [Python for Data Science](https://www.edx.org/professional-certificate/python-for-data-science)\n",
      "\n",
      "4. **Big Data Analytics**\n",
      "   Your medium neuroticism suggests that you might not enjoy high-pressure situations. Therefore, an online, self-paced course on big data analytics would be suitable for you. \n",
      "   Course Link: [Big Data Analytics](https://www.coursera.org/specializations/big-data)\n",
      "\n",
      "5. **Machine Learning**\n",
      "   Despite your low conscientiousness, which might make long-term projects challenging, machine learning is an important aspect of data engineering. Opt for a course which is broken down into smaller, manageable modules to help stay focused.\n",
      "   Course Link: [Machine Learning](https://www.coursera.org/learn/machine-learning)\n",
      "\n",
      "6. **Data Engineering on Google Cloud Platform**\n",
      "   Finally, a comprehensive course that ties everything together would be beneficial. Since you're high in extraversion, a course that offers the opportunity to engage with other learners might be a good fit.\n",
      "   Course Link: [Data Engineering on Google Cloud Platform](https://www.coursera.org/specializations/gcp-data-machine-learning)\n",
      "\n",
      "Remember, the key is to pace yourself and not rush the process. Most importantly, enjoy the journey of learning and evolving in your career.\n",
      "Learning path has been saved to 'learning_path.txt'\n"
     ]
    }
   ],
   "source": [
    "response_message = prompt_zon.get_personalized_learning_path(persType = 'High Extraversion, Low Agreeableness, Low Conscientiousness, Medium Neuroticism, Medium Openness',\n",
    "                                          curr_work = 'Accountant',\n",
    "                                          desired_work = 'Data Engineer',\n",
    "                                          desired_skills = 'Python programming, Cloud Computing')"
   ]
  },
  {
   "cell_type": "code",
   "execution_count": 4,
   "metadata": {},
   "outputs": [
    {
     "name": "stdout",
     "output_type": "stream",
     "text": [
      "{\n",
      "  \"title\": \"Personalized Learning Path\",\n",
      "  \"description\": \"This learning path is based on your career goals and personality type.\",\n",
      "  \"steps\": []\n",
      "}\n"
     ]
    }
   ],
   "source": [
    "# Define regex patterns to identify \"Step\" and \"Description\"\n",
    "step_pattern = r\"Step \\d+:\\s*(.*)\"  # Matches \"Step x: Title of the step\"\n",
    "description_pattern = r\"Description:\\s*(.*)\"  # Matches \"Description: Description text\"\n",
    "\n",
    "# Find all matches in the response text\n",
    "steps = re.findall(step_pattern, response_message)\n",
    "descriptions = re.findall(description_pattern, response_message)\n",
    "\n",
    "# Build a list of steps in a structured format\n",
    "learning_path = []\n",
    "for step, description in zip(steps, descriptions):\n",
    "    learning_path.append({\n",
    "        \"title\": step.strip(),\n",
    "        \"description\": description.strip(),\n",
    "        \"resources\": []  # Assuming resources can be added manually or later\n",
    "    })\n",
    "\n",
    "# Convert the list of steps to JSON format\n",
    "learning_path_json = json.dumps({\n",
    "    \"title\": \"Personalized Learning Path\",\n",
    "    \"description\": \"This learning path is based on your career goals and personality type.\",\n",
    "    \"steps\": learning_path\n",
    "}, indent=2)\n",
    "\n",
    "# Save the JSON to a file\n",
    "with open(\"learning_path.json\", \"w\") as f:\n",
    "    f.write(learning_path_json)\n",
    "\n",
    "# Print the JSON to verify\n",
    "print(learning_path_json)"
   ]
  },
  {
   "cell_type": "code",
   "execution_count": null,
   "metadata": {},
   "outputs": [],
   "source": []
  }
 ],
 "metadata": {
  "kernelspec": {
   "display_name": "base",
   "language": "python",
   "name": "python3"
  },
  "language_info": {
   "codemirror_mode": {
    "name": "ipython",
    "version": 3
   },
   "file_extension": ".py",
   "mimetype": "text/x-python",
   "name": "python",
   "nbconvert_exporter": "python",
   "pygments_lexer": "ipython3",
   "version": "3.9.13"
  }
 },
 "nbformat": 4,
 "nbformat_minor": 2
}
