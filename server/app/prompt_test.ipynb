{
 "cells": [
  {
   "cell_type": "code",
   "execution_count": 1,
   "metadata": {},
   "outputs": [],
   "source": [
    "import prompt_zon\n",
    "import re\n",
    "import json"
   ]
  },
  {
   "cell_type": "code",
   "execution_count": 2,
   "metadata": {},
   "outputs": [
    {
     "name": "stdout",
     "output_type": "stream",
     "text": [
      "Raw response from model: Sure, based on your personality traits and current career, here's a customized step-by-step learning path to become a Data Engineer:\n",
      "\n",
      "1. **Basics of Data Engineering**\n",
      "   Since you're high in extraversion, you might enjoy engaging in interactive learning environments. Therefore, start with the Data Engineering Basics: a course that includes interactive sessions and group projects. \n",
      "   Course Link: [Data Engineering Basics](https://www.coursera.org/learn/data-engineering)\n",
      "\n",
      "2. **Introduction to Databases**\n",
      "   As you have low agreeableness, you prefer to work independently. So, an online self-paced course on databases would be perfect for you. This course will provide you with a solid foundation in databases.\n",
      "   Course Link: [Introduction to Databases](https://www.coursera.org/learn/intro-sql)\n",
      "\n",
      "3. **Python for Data Science**\n",
      "   Given your medium openness, you are open to new experiences but may not thrive in highly unstructured environments. This course will provide a structured introduction to Python, a key language for data engineering.\n",
      "   Course Link: [Python for Data Science](https://www.edx.org/professional-certificate/python-for-data-science)\n",
      "\n",
      "4. **Big Data Analytics**\n",
      "   Your medium neuroticism suggests that you might not enjoy high-pressure situations. Therefore, an online, self-paced course on big data analytics would be suitable for you. \n",
      "   Course Link: [Big Data Analytics](https://www.coursera.org/specializations/big-data)\n",
      "\n",
      "5. **Machine Learning**\n",
      "   Despite your low conscientiousness, which might make long-term projects challenging, machine learning is an important aspect of data engineering. Opt for a course which is broken down into smaller, manageable modules to help stay focused.\n",
      "   Course Link: [Machine Learning](https://www.coursera.org/learn/machine-learning)\n",
      "\n",
      "6. **Data Engineering on Google Cloud Platform**\n",
      "   Finally, a comprehensive course that ties everything together would be beneficial. Since you're high in extraversion, a course that offers the opportunity to engage with other learners might be a good fit.\n",
      "   Course Link: [Data Engineering on Google Cloud Platform](https://www.coursera.org/specializations/gcp-data-machine-learning)\n",
      "\n",
      "Remember, the key is to pace yourself and not rush the process. Most importantly, enjoy the journey of learning and evolving in your career.\n",
      "Learning path has been saved to 'learning_path.txt'\n"
     ]
    }
   ],
   "source": [
    "response_message = prompt_zon.get_personalized_learning_path(persType = 'High Extraversion, Low Agreeableness, Low Conscientiousness, Medium Neuroticism, Medium Openness',\n",
    "                                          curr_work = 'Accountant',\n",
    "                                          desired_work = 'Data Engineer',\n",
    "                                          desired_skills = 'Python programming, Cloud Computing')"
   ]
  },
  {
   "cell_type": "code",
   "execution_count": null,
   "metadata": {},
   "outputs": [],
   "source": []
  },
  {
   "cell_type": "code",
   "execution_count": 4,
   "metadata": {},
   "outputs": [
    {
     "name": "stdout",
     "output_type": "stream",
     "text": [
      "{\n",
      "  \"title\": \"Personalized Learning Path\",\n",
      "  \"description\": \"This learning path is based on your career goals and personality type.\",\n",
      "  \"steps\": []\n",
      "}\n"
     ]
    }
   ],
   "source": [
    "# Define regex patterns to identify \"Step\" and \"Description\"\n",
    "step_pattern = r\"Step \\d+:\\s*(.*)\"  # Matches \"Step x: Title of the step\"\n",
    "description_pattern = r\"Description:\\s*(.*)\"  # Matches \"Description: Description text\"\n",
    "\n",
    "# Find all matches in the response text\n",
    "steps = re.findall(step_pattern, response_message)\n",
    "descriptions = re.findall(description_pattern, response_message)\n",
    "\n",
    "# Build a list of steps in a structured format\n",
    "learning_path = []\n",
    "for step, description in zip(steps, descriptions):\n",
    "    learning_path.append({\n",
    "        \"title\": step.strip(),\n",
    "        \"description\": description.strip(),\n",
    "        \"resources\": []  # Assuming resources can be added manually or later\n",
    "    })\n",
    "\n",
    "# Convert the list of steps to JSON format\n",
    "learning_path_json = json.dumps({\n",
    "    \"title\": \"Personalized Learning Path\",\n",
    "    \"description\": \"This learning path is based on your career goals and personality type.\",\n",
    "    \"steps\": learning_path\n",
    "}, indent=2)\n",
    "\n",
    "# Save the JSON to a file\n",
    "with open(\"learning_path.json\", \"w\") as f:\n",
    "    f.write(learning_path_json)\n",
    "\n",
    "# Print the JSON to verify\n",
    "print(learning_path_json)"
   ]
  },
  {
   "cell_type": "code",
   "execution_count": 3,
   "metadata": {},
   "outputs": [],
   "source": [
    "# Read the content of the generated learning path file\n",
    "with open(\"learning_path.txt\", \"r\") as file:\n",
    "    file_content = file.read()"
   ]
  },
  {
   "cell_type": "code",
   "execution_count": 4,
   "metadata": {},
   "outputs": [
    {
     "data": {
      "text/plain": [
       "\"Step 1: Understanding Digital Forensics\\nThis step will provide you with a solid foundation in digital forensics, which is essential to your new role. You'll learn about the methodologies and tools used in the field.\\nCourse: Computer Forensics I\\nLink: [Computer Forensics I](https://www.edx.org/professional-certificate/computer-forensics)\\nWhy this course fits: This course is detailed and thorough, which suits your conscientious nature. It'll also give you a chance to explore new concepts and technologies, catering to your openness to new experiences.\\n\\nStep 2: Mastering Cybersecurity Fundamentals\\nHere, you'll learn about the core principles of cybersecurity, which is important for understanding how breaches occur and how to prevent them.\\nCourse: Cybersecurity for Business\\nLink: [Cybersecurity for Business](https://www.coursera.org/specializations/cybersecurity-for-business)\\nWhy this course fits: The course requires a disciplined approach to learning, which aligns well with your high conscientiousness. It also introduces a variety of cybersecurity concepts, feeding your high openness.\\n\\nStep 3: Enhancing Problem-Solving Skills\\nThis step focuses on improving your problem-solving skills, which are crucial in forensic investigations.\\nCourse: Creative Problem Solving\\nLink: [Creative Problem Solving](https://www.coursera.org/learn/creative-problem-solving)\\nWhy this course fits: This course encourages creative thinking and novel approaches to problem-solving, which is in line with your high openness. It also requires perseverance and attention to detail, which matches your conscientiousness.\\n\\nStep 4: Specializing in Digital Forensic Investigation\\nThis step involves advanced learning in digital forensics, focusing on how to conduct effective investigations.\\nCourse: Digital Forensics and Cyber Crime with Kali Linux Fundamentals\\nLink: [Digital Forensics and Cyber Crime with Kali Linux Fundamentals](https://www.udemy.com/course/digital-forensics-and-cyber-crime-with-kali-linux-fundamentals/)\\nWhy this course fits: This course involves deep, focused learning, which suits your conscientiousness. It also offers new insights and techniques, catering to your openness to new experiences.\\n\\nStep 5: Practicing Real World Cases\\nThis final step allows you to put your skills into practice through real-world cases, fine-tuning your abilities.\\nCourse: Real World Digital Forensics\\nLink: [Real World Digital Forensics](https://www.cybrary.it/course/incident-response-advanced-forensics/)\\nWhy this course fits: This course provides hands-on experience, which is perfect for your practical approach. Its in-depth content also satisfies your desire to delve deeply into topics.\\n\""
      ]
     },
     "execution_count": 4,
     "metadata": {},
     "output_type": "execute_result"
    }
   ],
   "source": [
    "file_content"
   ]
  },
  {
   "cell_type": "code",
   "execution_count": 12,
   "metadata": {},
   "outputs": [],
   "source": [
    "steps = []\n",
    "courses = []\n",
    "links = []\n",
    "reasons = []\n",
    "descriptions = []\n",
    "\n",
    "for ele in file_content.split('\\n'):\n",
    "    if ele[:4] == 'Step':\n",
    "        steps.append(ele)\n",
    "    elif ele[:6] == 'Course':\n",
    "        courses.append(ele)\n",
    "    elif ele[:4] == 'Link':\n",
    "        links.append(ele)\n",
    "    elif ele[:3] == 'Why':\n",
    "        reasons.append(ele)\n",
    "    else:\n",
    "        if len(ele) != 0:\n",
    "            descriptions.append(ele)"
   ]
  },
  {
   "cell_type": "code",
   "execution_count": 13,
   "metadata": {},
   "outputs": [
    {
     "data": {
      "text/plain": [
       "['Step 1: Understanding Digital Forensics',\n",
       " 'Step 2: Mastering Cybersecurity Fundamentals',\n",
       " 'Step 3: Enhancing Problem-Solving Skills',\n",
       " 'Step 4: Specializing in Digital Forensic Investigation',\n",
       " 'Step 5: Practicing Real World Cases']"
      ]
     },
     "execution_count": 13,
     "metadata": {},
     "output_type": "execute_result"
    }
   ],
   "source": [
    "steps"
   ]
  },
  {
   "cell_type": "code",
   "execution_count": 14,
   "metadata": {},
   "outputs": [
    {
     "data": {
      "text/plain": [
       "['Course: Computer Forensics I',\n",
       " 'Course: Cybersecurity for Business',\n",
       " 'Course: Creative Problem Solving',\n",
       " 'Course: Digital Forensics and Cyber Crime with Kali Linux Fundamentals',\n",
       " 'Course: Real World Digital Forensics']"
      ]
     },
     "execution_count": 14,
     "metadata": {},
     "output_type": "execute_result"
    }
   ],
   "source": [
    "courses"
   ]
  },
  {
   "cell_type": "code",
   "execution_count": 15,
   "metadata": {},
   "outputs": [
    {
     "data": {
      "text/plain": [
       "['Link: [Computer Forensics I](https://www.edx.org/professional-certificate/computer-forensics)',\n",
       " 'Link: [Cybersecurity for Business](https://www.coursera.org/specializations/cybersecurity-for-business)',\n",
       " 'Link: [Creative Problem Solving](https://www.coursera.org/learn/creative-problem-solving)',\n",
       " 'Link: [Digital Forensics and Cyber Crime with Kali Linux Fundamentals](https://www.udemy.com/course/digital-forensics-and-cyber-crime-with-kali-linux-fundamentals/)',\n",
       " 'Link: [Real World Digital Forensics](https://www.cybrary.it/course/incident-response-advanced-forensics/)']"
      ]
     },
     "execution_count": 15,
     "metadata": {},
     "output_type": "execute_result"
    }
   ],
   "source": [
    "links"
   ]
  },
  {
   "cell_type": "code",
   "execution_count": 16,
   "metadata": {},
   "outputs": [
    {
     "data": {
      "text/plain": [
       "[\"Why this course fits: This course is detailed and thorough, which suits your conscientious nature. It'll also give you a chance to explore new concepts and technologies, catering to your openness to new experiences.\",\n",
       " 'Why this course fits: The course requires a disciplined approach to learning, which aligns well with your high conscientiousness. It also introduces a variety of cybersecurity concepts, feeding your high openness.',\n",
       " 'Why this course fits: This course encourages creative thinking and novel approaches to problem-solving, which is in line with your high openness. It also requires perseverance and attention to detail, which matches your conscientiousness.',\n",
       " 'Why this course fits: This course involves deep, focused learning, which suits your conscientiousness. It also offers new insights and techniques, catering to your openness to new experiences.',\n",
       " 'Why this course fits: This course provides hands-on experience, which is perfect for your practical approach. Its in-depth content also satisfies your desire to delve deeply into topics.']"
      ]
     },
     "execution_count": 16,
     "metadata": {},
     "output_type": "execute_result"
    }
   ],
   "source": [
    "reasons"
   ]
  },
  {
   "cell_type": "code",
   "execution_count": 17,
   "metadata": {},
   "outputs": [
    {
     "data": {
      "text/plain": [
       "[\"This step will provide you with a solid foundation in digital forensics, which is essential to your new role. You'll learn about the methodologies and tools used in the field.\",\n",
       " \"Here, you'll learn about the core principles of cybersecurity, which is important for understanding how breaches occur and how to prevent them.\",\n",
       " 'This step focuses on improving your problem-solving skills, which are crucial in forensic investigations.',\n",
       " 'This step involves advanced learning in digital forensics, focusing on how to conduct effective investigations.',\n",
       " 'This final step allows you to put your skills into practice through real-world cases, fine-tuning your abilities.']"
      ]
     },
     "execution_count": 17,
     "metadata": {},
     "output_type": "execute_result"
    }
   ],
   "source": [
    "descriptions"
   ]
  },
  {
   "cell_type": "code",
   "execution_count": 24,
   "metadata": {},
   "outputs": [
    {
     "data": {
      "text/plain": [
       "'https://www.edx.org/professional-certificate/computer-forensics'"
      ]
     },
     "execution_count": 24,
     "metadata": {},
     "output_type": "execute_result"
    }
   ],
   "source": [
    "links[0].split('(')[1][:-1]"
   ]
  },
  {
   "cell_type": "code",
   "execution_count": null,
   "metadata": {},
   "outputs": [],
   "source": []
  }
 ],
 "metadata": {
  "kernelspec": {
   "display_name": "base",
   "language": "python",
   "name": "python3"
  },
  "language_info": {
   "codemirror_mode": {
    "name": "ipython",
    "version": 3
   },
   "file_extension": ".py",
   "mimetype": "text/x-python",
   "name": "python",
   "nbconvert_exporter": "python",
   "pygments_lexer": "ipython3",
   "version": "3.9.13"
  }
 },
 "nbformat": 4,
 "nbformat_minor": 2
}
